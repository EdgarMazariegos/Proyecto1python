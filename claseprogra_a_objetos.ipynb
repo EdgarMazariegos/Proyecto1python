{
 "cells": [
  {
   "attachments": {},
   "cell_type": "markdown",
   "metadata": {},
   "source": [
    "## Programación orientada a objetos"
   ]
  },
  {
   "attachments": {},
   "cell_type": "markdown",
   "metadata": {},
   "source": [
    "Cuando programamos orientando a objetos utilizamos\n",
    "1. Campos:atributos, propiedades, datos del objeto\n",
    "2. constructor: función que crea un objeto en memoria(instancia)\n",
    "3. Métodos: funciones para la gestión del objeto\n",
    "4. Destructores: sacar de memoria un objeto previamente instanciado"
   ]
  },
  {
   "attachments": {},
   "cell_type": "markdown",
   "metadata": {},
   "source": [
    "1."
   ]
  },
  {
   "cell_type": "code",
   "execution_count": 8,
   "metadata": {},
   "outputs": [],
   "source": [
    "class Empleado():\n",
    "\n",
    "    incrementoSalario=1.04 ##variable de clase\n",
    "\n",
    "    #constructor\n",
    "    def __init__(self, name,lastName,numOf):\n",
    "        self.nombre=name\n",
    "        self.apellido=lastName\n",
    "        self.correo=f\"{self.nombre.lower()}.{self.apellido.lower()}@galileo.edu\"\n",
    "        self.oficina=numOf\n",
    "    \n",
    "    def nombreCompleto(self):\n",
    "        return f\"{self.nombre}{self.apellido}\"\n",
    "\n",
    "    @classmethod\n",
    "    def cambiarIncremento(cls, nuevoValor):\n",
    "        if(nuevoValor>=1) and (nuevoValor<=1.15):\n",
    "            cls.cambiarIncremento = nuevoValor\n",
    "        else:\n",
    "            print(\"Error: el valor del incremento no es valido.\")\n"
   ]
  },
  {
   "cell_type": "code",
   "execution_count": 9,
   "metadata": {},
   "outputs": [],
   "source": [
    "edgar = Empleado(\"Edgar\",\"Mazariegos\",310) #creamos objeto - instanciamos\n",
    "preng = Empleado(\"Preng\",\"Biba\",310)"
   ]
  },
  {
   "cell_type": "code",
   "execution_count": 10,
   "metadata": {},
   "outputs": [
    {
     "data": {
      "text/plain": [
       "'PrengBiba'"
      ]
     },
     "execution_count": 10,
     "metadata": {},
     "output_type": "execute_result"
    }
   ],
   "source": [
    "preng.nombreCompleto()"
   ]
  },
  {
   "cell_type": "code",
   "execution_count": 11,
   "metadata": {},
   "outputs": [
    {
     "data": {
      "text/plain": [
       "1.04"
      ]
     },
     "execution_count": 11,
     "metadata": {},
     "output_type": "execute_result"
    }
   ],
   "source": [
    "Empleado.incrementoSalario"
   ]
  },
  {
   "cell_type": "code",
   "execution_count": 12,
   "metadata": {},
   "outputs": [
    {
     "ename": "SyntaxError",
     "evalue": "invalid syntax (1478153606.py, line 24)",
     "output_type": "error",
     "traceback": [
      "\u001b[1;36m  File \u001b[1;32m\"C:\\Users\\Edgar\\AppData\\Local\\Temp\\ipykernel_10300\\1478153606.py\"\u001b[1;36m, line \u001b[1;32m24\u001b[0m\n\u001b[1;33m    self.rmse =\u001b[0m\n\u001b[1;37m                ^\u001b[0m\n\u001b[1;31mSyntaxError\u001b[0m\u001b[1;31m:\u001b[0m invalid syntax\n"
     ]
    }
   ],
   "source": [
    "##Ayuda para proyecto\n",
    "\n",
    "class Modelo():\n",
    "    def __init__(self,epochs,Ir,X,Y,print_itr):\n",
    "        self.epochs=epochs\n",
    "        self.learning_rate = Ir\n",
    "        self.x=X\n",
    "        self.y=Y\n",
    "        self.print_iters = print_itr\n",
    "        self.arr_errors=[]\n",
    "        self.betas=[]\n",
    "        self.rmse= 0.0\n",
    "\n",
    "    def train(self, x_name):\n",
    "        pass\n",
    "\n",
    "    def print_error(self):\n",
    "        pass\n",
    "\n",
    "    def predict(self,new_X):\n",
    "        return self.betas[0] + self.betas[1]*new_X\n",
    "\n",
    "    def metricas(self, Y_toCompare):\n",
    "        self.rmse = \n",
    "    \n",
    "    def exploracion():\n",
    "        \n",
    "\n"
   ]
  },
  {
   "cell_type": "code",
   "execution_count": null,
   "metadata": {},
   "outputs": [],
   "source": [
    "#modelo1 = Modelo(X,Y,varname)"
   ]
  }
 ],
 "metadata": {
  "kernelspec": {
   "display_name": "base",
   "language": "python",
   "name": "python3"
  },
  "language_info": {
   "codemirror_mode": {
    "name": "ipython",
    "version": 3
   },
   "file_extension": ".py",
   "mimetype": "text/x-python",
   "name": "python",
   "nbconvert_exporter": "python",
   "pygments_lexer": "ipython3",
   "version": "3.9.13"
  },
  "orig_nbformat": 4,
  "vscode": {
   "interpreter": {
    "hash": "85bd67d4d7d554baee8d139683a9c50a3ff3403cfaf5912975262193447db92d"
   }
  }
 },
 "nbformat": 4,
 "nbformat_minor": 2
}
